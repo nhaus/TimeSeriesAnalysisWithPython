{
  "nbformat": 4,
  "nbformat_minor": 0,
  "metadata": {
    "colab": {
      "provenance": [],
      "authorship_tag": "ABX9TyPV5SDsE6ripKXc+v9Nbc7g",
      "include_colab_link": true
    },
    "kernelspec": {
      "name": "python3",
      "display_name": "Python 3"
    },
    "language_info": {
      "name": "python"
    }
  },
  "cells": [
    {
      "cell_type": "markdown",
      "metadata": {
        "id": "view-in-github",
        "colab_type": "text"
      },
      "source": [
        "<a href=\"https://colab.research.google.com/github/nhaus/TimeSeriesAnalysisWithPython/blob/master/MyFirstColabNotebook.ipynb\" target=\"_parent\"><img src=\"https://colab.research.google.com/assets/colab-badge.svg\" alt=\"Open In Colab\"/></a>"
      ]
    },
    {
      "cell_type": "code",
      "execution_count": 3,
      "metadata": {
        "colab": {
          "base_uri": "https://localhost:8080/"
        },
        "id": "uGuw3mtHYKA6",
        "outputId": "4f922af0-28a6-4c94-e5e0-3eb0d0486538"
      },
      "outputs": [
        {
          "output_type": "stream",
          "name": "stdout",
          "text": [
            "Thu Mar 23 03:00:03 2023\n"
          ]
        }
      ],
      "source": [
        "import time\n",
        "print(time.ctime())"
      ]
    },
    {
      "cell_type": "code",
      "source": [
        "\n",
        "This is *italic*.\n",
        "This is ~strikethrough~."
      ],
      "metadata": {
        "colab": {
          "base_uri": "https://localhost:8080/",
          "height": 131
        },
        "id": "d0Mu9TnDa4AK",
        "outputId": "b21bd469-aacd-4df6-f050-0fd25ece570a"
      },
      "execution_count": 8,
      "outputs": [
        {
          "output_type": "error",
          "ename": "SyntaxError",
          "evalue": "ignored",
          "traceback": [
            "\u001b[0;36m  File \u001b[0;32m\"<ipython-input-8-1d57ba3d4e37>\"\u001b[0;36m, line \u001b[0;32m1\u001b[0m\n\u001b[0;31m    This is *bold*.\u001b[0m\n\u001b[0m            ^\u001b[0m\n\u001b[0;31mSyntaxError\u001b[0m\u001b[0;31m:\u001b[0m invalid syntax\n"
          ]
        }
      ]
    },
    {
      "cell_type": "code",
      "source": [
        "sqrt{3x-1}+(1+x)^2"
      ],
      "metadata": {
        "colab": {
          "base_uri": "https://localhost:8080/",
          "height": 131
        },
        "id": "b_esP5l5bS-o",
        "outputId": "8078ad70-d8e9-4fc8-99f4-f92c26b5f783"
      },
      "execution_count": 10,
      "outputs": [
        {
          "output_type": "error",
          "ename": "SyntaxError",
          "evalue": "ignored",
          "traceback": [
            "\u001b[0;36m  File \u001b[0;32m\"<ipython-input-10-37f8341ff957>\"\u001b[0;36m, line \u001b[0;32m1\u001b[0m\n\u001b[0;31m    sqrt{3x-1}+(1+x)^2\u001b[0m\n\u001b[0m        ^\u001b[0m\n\u001b[0;31mSyntaxError\u001b[0m\u001b[0;31m:\u001b[0m invalid syntax\n"
          ]
        }
      ]
    },
    {
      "cell_type": "markdown",
      "source": [
        "This is **bold**.\n",
        "This is *italic*.\n",
        "This is ~strikethrough~."
      ],
      "metadata": {
        "id": "Fi4wH0uUbmHW"
      }
    },
    {
      "cell_type": "markdown",
      "source": [
        "$\\sqrt{3x-1}+(1+x)^2$"
      ],
      "metadata": {
        "id": "3Ek8YPbbbrQr"
      }
    },
    {
      "cell_type": "markdown",
      "source": [
        "$e^x=\\sum_{i=0}^\\infty \\frac{1}{i!}x^i$"
      ],
      "metadata": {
        "id": "ItjIFq1Zbwhd"
      }
    },
    {
      "cell_type": "markdown",
      "source": [],
      "metadata": {
        "id": "c4V28T69b5Bt"
      }
    },
    {
      "cell_type": "markdown",
      "source": [
        "- $u_i(t) = x_i(t) + \\beta(\\hat{x}(t) − x_i(t)) + \\beta \\sum_{k = 1}^{n\n",
        "_v}(x_{i1,k}(t) − x_{i2,k}(t))$"
      ],
      "metadata": {
        "id": "N-NZNl1dcL_j"
      }
    },
    {
      "cell_type": "markdown",
      "source": [
        "- $3x_1 + 6x_2 + x_3 =< 28$\n",
        "- $7x_1 + 3x_2 + 2x_3 =< 37$\n",
        "- $4x_1 + 5x_2 + 2x_3 =< 19$\n",
        "- $x_1,x_2,x_3 >=0 $"
      ],
      "metadata": {
        "id": "PM3Y9R4RcRkZ"
      }
    },
    {
      "cell_type": "markdown",
      "source": [
        "$f(x_1, x_2) = 20 + e - 20exp(-0.2 \\sqrt {\\frac {1}{n} (x_1^2 + x_2^2)}) - exp (\\frac {1}{n}(cos(2\\pi x_1) + cos(2\\pi x_2))$\n",
        "$x ∈ [-5, 5]$\n",
        ">$A_{m,n} =\n",
        "\\begin{pmatrix}\n",
        "a_{1,1} & a_{1,2} & \\cdots & a_{1,n} \\\\\n",
        "a_{2,1} & a_{2,2} & \\cdots & a_{2,n} \\\\\n",
        "\\vdots & \\vdots & \\ddots & \\vdots \\\\\n",
        "a_{m,1} & a_{m,2} & \\cdots & a_{m,n}\n",
        "\\end{pmatrix}$"
      ],
      "metadata": {
        "id": "eu-lVA23co9t"
      }
    }
  ]
}